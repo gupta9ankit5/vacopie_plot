{
  "nbformat": 4,
  "nbformat_minor": 0,
  "metadata": {
    "colab": {
      "name": "VACOPIE_PLOT.ipynb",
      "provenance": []
    },
    "kernelspec": {
      "name": "python3",
      "display_name": "Python 3"
    },
    "language_info": {
      "name": "python"
    }
  },
  "cells": [
    {
      "cell_type": "code",
      "metadata": {
        "id": "XaDYkEj_HlSk"
      },
      "source": [
        "from sklearn import datasets\n",
        "from sklearn.preprocessing import StandardScaler\n",
        "import numpy as np\n",
        "import pandas as pd\n",
        "import matplotlib.pyplot as plt\n",
        "import seaborn as sns\n",
        "import re"
      ],
      "execution_count": 56,
      "outputs": []
    },
    {
      "cell_type": "code",
      "metadata": {
        "id": "g60WTuM4CIMX"
      },
      "source": [
        "def check_feature_numerical(feature):\n",
        "  pattern = re.compile('\\D')\n",
        "  for item in df[feature]:\n",
        "    if re.match(pattern, str(item)):\n",
        "      return True\n",
        "  return False"
      ],
      "execution_count": 57,
      "outputs": []
    },
    {
      "cell_type": "code",
      "metadata": {
        "id": "M13EWVXZ6vm-"
      },
      "source": [
        "# Vacopie plot function: expects data as a pandas dataframe\n",
        "def vacopie(data):\n",
        "\n",
        "  # preprocessing\n",
        "  df = data.dropna(axis = 0, how ='any')    # remove rows with missing values\n",
        "  \n",
        "  if (len(df)==0):\n",
        "    print(\"ERROR: Data has too many missing values\")\n",
        "    return\n",
        "  \n",
        "  features = [feature for feature in df.columns if check_feature_numerical(feature)==False]   # only numerical features\n",
        "  \n",
        "  if (len(features) == 0):\n",
        "    print(\"ERROR: No numerical feature\")\n",
        "    return\n",
        "  \n",
        "  df = df[features]\n",
        "                                    \n",
        "  f_len = df.shape[1] # no. of features\n",
        "  \n",
        "  # Calculate and store variances(vars) and covariances (covs)\n",
        "  cov_mat = np.matmul(df.values.T, df.values)/len(data)\n",
        "  covs = list()\n",
        "  outer_label_indexes = []\n",
        "  vars = np.diagonal(cov_mat)\n",
        "  for i in range(f_len):\n",
        "    for j in range(f_len):\n",
        "      if j!=i:\n",
        "        covs.append(cov_mat[i,j])\n",
        "        outer_label_indexes.append(j) # to be used later in plot\n",
        "\n",
        "  # Normalization\n",
        "  covs_abs = np.reshape(abs(np.array(covs)), (f_len, f_len -1))\n",
        "  normd_covs = covs_abs/covs_abs.sum(axis=1).reshape(f_len,1) # normalized\n",
        "  sector_normd_covs = (normd_covs * vars.reshape(f_len,1)).flatten() # normalize sector-wise\n",
        "  sector_normd_covs.reshape(f_len,f_len-1)\n",
        "\n",
        "  # plotting\n",
        "  l = sector_normd_covs\n",
        "\n",
        "  size = 1\n",
        "  radius = 2.1\n",
        "\n",
        "  outer_cmaps = plt.get_cmap(\"Purples\")\n",
        "  inner_cmap = plt.get_cmap(\"Purples\")\n",
        "\n",
        "  inner_colors = inner_cmap(vars/sum(vars))\n",
        "  outer_colors = np.array([outer_cmaps(l[i:i+f_len-1]/sum(l[i:i+f_len-1])) for i in range(0, f_len*(f_len-1), f_len-1)]).reshape(f_len*(f_len-1), 4)\n",
        "\n",
        "  legend_labels = [f'F{i}' for i in range(1, f_len+1)]\n",
        "\n",
        "  outer_labels = [legend_labels[i] for i in outer_label_indexes]\n",
        "\n",
        "  inner_legend_labels = [f'F{label} ({features[label-1]})' for label in range(1, f_len+1)]\n",
        "  print(inner_legend_labels)\n",
        "  fig, ax = plt.subplots()\n",
        "  outer_pie, _ = ax.pie(l, radius=radius, startangle=90, colors = outer_colors, labels = outer_labels,\n",
        "       wedgeprops=dict(width=size, edgecolor='w'))\n",
        "\n",
        "  inner_pie, _ = ax.pie(vars, radius=radius-size, startangle=90, labels = legend_labels, labeldistance=0.5, colors= inner_colors,\n",
        "       wedgeprops=dict(width=size, edgecolor='w'))\n",
        "  plt.setp(inner_pie, edgecolor='black')\n",
        "  plt.margins(0,0)\n",
        "  plt.setp(outer_pie, edgecolor='black')\n",
        "  plt.margins(0,0)\n",
        "  plt.legend(loc=(0.9, 0.1))\n",
        "  handles, labels = ax.get_legend_handles_labels()\n",
        "\n",
        "  outer_labels_for_legend = [f'{label} ({features[int(label[1:])-1]})' for label in outer_labels]\n",
        "  #ax.legend(handles[:], outer_labels_for_legend, loc=(2, 0.1))\n",
        "  ax.legend(handles[12:], inner_legend_labels, loc=(1.5, 0.1))\n",
        "\n",
        "  ax.set(aspect=\"equal\")\n",
        "  plt.savefig('fig')\n",
        "  plt.show()\n"
      ],
      "execution_count": 58,
      "outputs": []
    },
    {
      "cell_type": "code",
      "metadata": {
        "id": "FGNUndixH8By"
      },
      "source": [
        "data = datasets.load_iris()\n",
        "\n",
        "df = pd.DataFrame(data.data, columns = data.feature_names)\n",
        "vacopie(df)"
      ],
      "execution_count": null,
      "outputs": []
    }
  ]
}